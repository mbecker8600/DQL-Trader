{
 "cells": [
  {
   "cell_type": "code",
   "execution_count": null,
   "metadata": {
    "collapsed": true
   },
   "outputs": [],
   "source": [
    "from datetime import datetime\n",
    "from config import AgentConfig\n",
    "from dqn.agent import Agent\n",
    "import pytz\n",
    "import warnings\n",
    "import pandas as pd"
   ]
  },
  {
   "cell_type": "code",
   "execution_count": null,
   "metadata": {
    "scrolled": false
   },
   "outputs": [
    {
     "name": "stdout",
     "output_type": "stream",
     "text": [
      "timestep: 2348\n"
     ]
    },
    {
     "name": "stderr",
     "output_type": "stream",
     "text": [
      "\r",
      "  0%|                                    | 0/65.85714285714286 [00:00<?, ?it/s]"
     ]
    },
    {
     "name": "stdout",
     "output_type": "stream",
     "text": [
      "symbols not found\n"
     ]
    }
   ],
   "source": [
    "warnings.simplefilter(\"ignore\", DeprecationWarning)\n",
    "\n",
    "config = AgentConfig()\n",
    "print('timestep: {}'.format(config.resume_from_checkpoint))\n",
    "\n",
    "# parameters\n",
    "sd = datetime(2010, 1, 1, 0, 0, 0, 0, pytz.utc)\n",
    "ed = datetime(2015, 7, 1, 0, 0, 0, 0, pytz.utc)\n",
    "live_start_date = datetime(2015, 1, 1, 0, 0, 0, 0, pytz.utc)\n",
    "\n",
    "syms = ['AAPL', 'XOM', 'IBM', 'CAT']\n",
    "captial = 1000000\n",
    "\n",
    "agent = Agent(config, syms, captial)\n",
    "agent.test(sd, ed, live_start_date=live_start_date, benchmark='VTI')"
   ]
  }
 ],
 "metadata": {
  "kernelspec": {
   "display_name": "Python 3",
   "language": "python",
   "name": "python3"
  },
  "language_info": {
   "codemirror_mode": {
    "name": "ipython",
    "version": 3
   },
   "file_extension": ".py",
   "mimetype": "text/x-python",
   "name": "python",
   "nbconvert_exporter": "python",
   "pygments_lexer": "ipython3",
   "version": "3.5.3"
  }
 },
 "nbformat": 4,
 "nbformat_minor": 1
}
