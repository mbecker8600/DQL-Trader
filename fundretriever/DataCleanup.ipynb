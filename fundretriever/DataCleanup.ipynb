{
 "cells": [
  {
   "cell_type": "code",
   "execution_count": 1,
   "metadata": {
    "collapsed": true
   },
   "outputs": [],
   "source": [
    "import pandas as pd"
   ]
  },
  {
   "cell_type": "code",
   "execution_count": 2,
   "metadata": {
    "collapsed": true
   },
   "outputs": [],
   "source": [
    "sectors = pd.HDFStore('snp500_backup.h5').keys()"
   ]
  },
  {
   "cell_type": "code",
   "execution_count": 3,
   "metadata": {
    "collapsed": true
   },
   "outputs": [],
   "source": [
    "with pd.get_store('snp500.h5') as store:\n",
    "    for sector in sectors:\n",
    "        data = pd.read_hdf('snp500_backup.h5', sector)\n",
    "        data.dropna(axis=2, inplace=True)\n",
    "        store[sector] = data"
   ]
  },
  {
   "cell_type": "code",
   "execution_count": 5,
   "metadata": {
    "collapsed": false
   },
   "outputs": [
    {
     "data": {
      "text/plain": [
       "[Index(['close', 'high', 'low', 'open', 'volume'], dtype='object'),\n",
       " DatetimeIndex(['1962-01-02', '1962-01-03', '1962-01-04', '1962-01-05',\n",
       "                '1962-01-08', '1962-01-09', '1962-01-10', '1962-01-11',\n",
       "                '1962-01-12', '1962-01-15',\n",
       "                ...\n",
       "                '2017-05-01', '2017-05-02', '2017-05-03', '2017-05-04',\n",
       "                '2017-05-05', '2017-05-08', '2017-05-09', '2017-05-10',\n",
       "                '2017-05-11', '2017-05-12'],\n",
       "               dtype='datetime64[ns]', name='Date', length=13937, freq=None),\n",
       " Index(['AAL', 'ALK', 'ALLE', 'AME', 'ARNC', 'AYI', 'BA', 'CAT', 'CHRW', 'CMI',\n",
       "        'COL', 'CSX', 'CTAS', 'DAL', 'DE', 'DOV', 'EFX', 'EMR', 'ETN', 'EXPD',\n",
       "        'FAST', 'FBHS', 'FDX', 'FLR', 'FLS', 'FTV', 'GD', 'GE', 'GWW', 'HON',\n",
       "        'IR', 'ITW', 'JBHT', 'JCI', 'JEC', 'KSU', 'LLL', 'LMT', 'LUV', 'MAS',\n",
       "        'MMM', 'NLSN', 'NOC', 'NSC', 'PCAR', 'PH', 'PNR', 'PWR', 'R', 'RHI',\n",
       "        'ROK', 'ROP', 'RSG', 'RTN', 'SRCL', 'TDG', 'TXT', 'UAL', 'UNP', 'UPS',\n",
       "        'URI', 'UTX', 'VRSK', 'WM', 'XYL'],\n",
       "       dtype='object')]"
      ]
     },
     "execution_count": 5,
     "metadata": {},
     "output_type": "execute_result"
    }
   ],
   "source": [
    "pd.read_hdf('snp500_backup.h5', 'industrials').axes"
   ]
  }
 ],
 "metadata": {
  "kernelspec": {
   "display_name": "Python 3",
   "language": "python",
   "name": "python3"
  },
  "language_info": {
   "codemirror_mode": {
    "name": "ipython",
    "version": 3
   },
   "file_extension": ".py",
   "mimetype": "text/x-python",
   "name": "python",
   "nbconvert_exporter": "python",
   "pygments_lexer": "ipython3",
   "version": "3.6.0"
  }
 },
 "nbformat": 4,
 "nbformat_minor": 2
}
